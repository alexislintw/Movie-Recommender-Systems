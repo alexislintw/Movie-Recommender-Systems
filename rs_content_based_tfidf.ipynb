{
  "nbformat": 4,
  "nbformat_minor": 0,
  "metadata": {
    "colab": {
      "name": "rs_content_based_tfidf.ipynb",
      "provenance": [],
      "collapsed_sections": [],
      "toc_visible": true,
      "mount_file_id": "1WG85YkFDnpMWZLo8NWWkIA-_YaydHkO3",
      "authorship_tag": "ABX9TyNuFelZ25QvX4Lf4xMnNEum"
    },
    "kernelspec": {
      "name": "python3",
      "display_name": "Python 3"
    },
    "language_info": {
      "name": "python"
    },
    "accelerator": "GPU"
  },
  "cells": [
    {
      "cell_type": "markdown",
      "metadata": {
        "id": "Gym-Wwj_gbZe"
      },
      "source": [
        "# Movie Recommender System\n",
        "- Author: Alexis\n",
        "- Created: 2021/10/2\n",
        "- Updated: 2022/2/27\n",
        "\n",
        "The content-based recommendation system uses the TF-IDF vector of the movie metadata to represent the movie, calculates the cosine similarity of the vector as the movie similarity, sorts the similarity, and takes the top 10 movies as the recommendation result."
      ]
    },
    {
      "cell_type": "markdown",
      "metadata": {
        "id": "Vw-9sPdYhMfO"
      },
      "source": [
        "## Text Pre-processing\n",
        "- 資料集 : movie_metadata.csv 共有 45,466筆"
      ]
    },
    {
      "cell_type": "markdown",
      "metadata": {
        "id": "i_D9IOJY8rU6"
      },
      "source": [
        "### Processing for Metadata"
      ]
    },
    {
      "cell_type": "code",
      "metadata": {
        "id": "LpczQ4E9gNxH",
        "colab": {
          "base_uri": "https://localhost:8080/"
        },
        "outputId": "36821224-d2c2-43e4-9be8-e9b5b63a6672"
      },
      "source": [
        "import pandas as pd\n",
        "\n",
        "# 指定資料集檔案位置\n",
        "PATH = '/content/drive/MyDrive/shared_folder/dataset/imdb/'\n",
        "\n",
        "# 載入資料\n",
        "df_metadata = pd.read_csv(PATH + 'movies_metadata.csv')\n",
        "\n",
        "# 顯示資料數量\n",
        "df_metadata.shape"
      ],
      "execution_count": null,
      "outputs": [
        {
          "output_type": "stream",
          "name": "stderr",
          "text": [
            "/usr/local/lib/python3.7/dist-packages/IPython/core/interactiveshell.py:2718: DtypeWarning: Columns (10) have mixed types.Specify dtype option on import or set low_memory=False.\n",
            "  interactivity=interactivity, compiler=compiler, result=result)\n"
          ]
        },
        {
          "output_type": "execute_result",
          "data": {
            "text/plain": [
              "(45466, 24)"
            ]
          },
          "metadata": {},
          "execution_count": 1
        }
      ]
    },
    {
      "cell_type": "code",
      "metadata": {
        "id": "uqnQqVlXUQfF",
        "colab": {
          "base_uri": "https://localhost:8080/"
        },
        "outputId": "2c650c8e-86f4-4405-8790-982a65f3d630"
      },
      "source": [
        "# 顯示資料欄位\n",
        "print(df_metadata.columns)"
      ],
      "execution_count": null,
      "outputs": [
        {
          "output_type": "stream",
          "name": "stdout",
          "text": [
            "Index(['adult', 'belongs_to_collection', 'budget', 'genres', 'homepage', 'id',\n",
            "       'imdb_id', 'original_language', 'original_title', 'overview',\n",
            "       'popularity', 'poster_path', 'production_companies',\n",
            "       'production_countries', 'release_date', 'revenue', 'runtime',\n",
            "       'spoken_languages', 'status', 'tagline', 'title', 'video',\n",
            "       'vote_average', 'vote_count'],\n",
            "      dtype='object')\n"
          ]
        }
      ]
    },
    {
      "cell_type": "code",
      "metadata": {
        "id": "EqS7z4kOtQDR",
        "colab": {
          "base_uri": "https://localhost:8080/",
          "height": 677
        },
        "outputId": "595eb586-a661-4b5e-987c-d91cd04ecfdd"
      },
      "source": [
        "# 顯示前5筆資料\n",
        "df_metadata.head()"
      ],
      "execution_count": null,
      "outputs": [
        {
          "output_type": "execute_result",
          "data": {
            "text/html": [
              "<div>\n",
              "<style scoped>\n",
              "    .dataframe tbody tr th:only-of-type {\n",
              "        vertical-align: middle;\n",
              "    }\n",
              "\n",
              "    .dataframe tbody tr th {\n",
              "        vertical-align: top;\n",
              "    }\n",
              "\n",
              "    .dataframe thead th {\n",
              "        text-align: right;\n",
              "    }\n",
              "</style>\n",
              "<table border=\"1\" class=\"dataframe\">\n",
              "  <thead>\n",
              "    <tr style=\"text-align: right;\">\n",
              "      <th></th>\n",
              "      <th>adult</th>\n",
              "      <th>belongs_to_collection</th>\n",
              "      <th>budget</th>\n",
              "      <th>genres</th>\n",
              "      <th>homepage</th>\n",
              "      <th>id</th>\n",
              "      <th>imdb_id</th>\n",
              "      <th>original_language</th>\n",
              "      <th>original_title</th>\n",
              "      <th>overview</th>\n",
              "      <th>popularity</th>\n",
              "      <th>poster_path</th>\n",
              "      <th>production_companies</th>\n",
              "      <th>production_countries</th>\n",
              "      <th>release_date</th>\n",
              "      <th>revenue</th>\n",
              "      <th>runtime</th>\n",
              "      <th>spoken_languages</th>\n",
              "      <th>status</th>\n",
              "      <th>tagline</th>\n",
              "      <th>title</th>\n",
              "      <th>video</th>\n",
              "      <th>vote_average</th>\n",
              "      <th>vote_count</th>\n",
              "    </tr>\n",
              "  </thead>\n",
              "  <tbody>\n",
              "    <tr>\n",
              "      <th>0</th>\n",
              "      <td>False</td>\n",
              "      <td>{'id': 10194, 'name': 'Toy Story Collection', ...</td>\n",
              "      <td>30000000</td>\n",
              "      <td>[{'id': 16, 'name': 'Animation'}, {'id': 35, '...</td>\n",
              "      <td>http://toystory.disney.com/toy-story</td>\n",
              "      <td>862</td>\n",
              "      <td>tt0114709</td>\n",
              "      <td>en</td>\n",
              "      <td>Toy Story</td>\n",
              "      <td>Led by Woody, Andy's toys live happily in his ...</td>\n",
              "      <td>21.9469</td>\n",
              "      <td>/rhIRbceoE9lR4veEXuwCC2wARtG.jpg</td>\n",
              "      <td>[{'name': 'Pixar Animation Studios', 'id': 3}]</td>\n",
              "      <td>[{'iso_3166_1': 'US', 'name': 'United States o...</td>\n",
              "      <td>1995-10-30</td>\n",
              "      <td>373554033.0</td>\n",
              "      <td>81.0</td>\n",
              "      <td>[{'iso_639_1': 'en', 'name': 'English'}]</td>\n",
              "      <td>Released</td>\n",
              "      <td>NaN</td>\n",
              "      <td>Toy Story</td>\n",
              "      <td>False</td>\n",
              "      <td>7.7</td>\n",
              "      <td>5415.0</td>\n",
              "    </tr>\n",
              "    <tr>\n",
              "      <th>1</th>\n",
              "      <td>False</td>\n",
              "      <td>NaN</td>\n",
              "      <td>65000000</td>\n",
              "      <td>[{'id': 12, 'name': 'Adventure'}, {'id': 14, '...</td>\n",
              "      <td>NaN</td>\n",
              "      <td>8844</td>\n",
              "      <td>tt0113497</td>\n",
              "      <td>en</td>\n",
              "      <td>Jumanji</td>\n",
              "      <td>When siblings Judy and Peter discover an encha...</td>\n",
              "      <td>17.0155</td>\n",
              "      <td>/vzmL6fP7aPKNKPRTFnZmiUfciyV.jpg</td>\n",
              "      <td>[{'name': 'TriStar Pictures', 'id': 559}, {'na...</td>\n",
              "      <td>[{'iso_3166_1': 'US', 'name': 'United States o...</td>\n",
              "      <td>1995-12-15</td>\n",
              "      <td>262797249.0</td>\n",
              "      <td>104.0</td>\n",
              "      <td>[{'iso_639_1': 'en', 'name': 'English'}, {'iso...</td>\n",
              "      <td>Released</td>\n",
              "      <td>Roll the dice and unleash the excitement!</td>\n",
              "      <td>Jumanji</td>\n",
              "      <td>False</td>\n",
              "      <td>6.9</td>\n",
              "      <td>2413.0</td>\n",
              "    </tr>\n",
              "    <tr>\n",
              "      <th>2</th>\n",
              "      <td>False</td>\n",
              "      <td>{'id': 119050, 'name': 'Grumpy Old Men Collect...</td>\n",
              "      <td>0</td>\n",
              "      <td>[{'id': 10749, 'name': 'Romance'}, {'id': 35, ...</td>\n",
              "      <td>NaN</td>\n",
              "      <td>15602</td>\n",
              "      <td>tt0113228</td>\n",
              "      <td>en</td>\n",
              "      <td>Grumpier Old Men</td>\n",
              "      <td>A family wedding reignites the ancient feud be...</td>\n",
              "      <td>11.7129</td>\n",
              "      <td>/6ksm1sjKMFLbO7UY2i6G1ju9SML.jpg</td>\n",
              "      <td>[{'name': 'Warner Bros.', 'id': 6194}, {'name'...</td>\n",
              "      <td>[{'iso_3166_1': 'US', 'name': 'United States o...</td>\n",
              "      <td>1995-12-22</td>\n",
              "      <td>0.0</td>\n",
              "      <td>101.0</td>\n",
              "      <td>[{'iso_639_1': 'en', 'name': 'English'}]</td>\n",
              "      <td>Released</td>\n",
              "      <td>Still Yelling. Still Fighting. Still Ready for...</td>\n",
              "      <td>Grumpier Old Men</td>\n",
              "      <td>False</td>\n",
              "      <td>6.5</td>\n",
              "      <td>92.0</td>\n",
              "    </tr>\n",
              "    <tr>\n",
              "      <th>3</th>\n",
              "      <td>False</td>\n",
              "      <td>NaN</td>\n",
              "      <td>16000000</td>\n",
              "      <td>[{'id': 35, 'name': 'Comedy'}, {'id': 18, 'nam...</td>\n",
              "      <td>NaN</td>\n",
              "      <td>31357</td>\n",
              "      <td>tt0114885</td>\n",
              "      <td>en</td>\n",
              "      <td>Waiting to Exhale</td>\n",
              "      <td>Cheated on, mistreated and stepped on, the wom...</td>\n",
              "      <td>3.85949</td>\n",
              "      <td>/16XOMpEaLWkrcPqSQqhTmeJuqQl.jpg</td>\n",
              "      <td>[{'name': 'Twentieth Century Fox Film Corporat...</td>\n",
              "      <td>[{'iso_3166_1': 'US', 'name': 'United States o...</td>\n",
              "      <td>1995-12-22</td>\n",
              "      <td>81452156.0</td>\n",
              "      <td>127.0</td>\n",
              "      <td>[{'iso_639_1': 'en', 'name': 'English'}]</td>\n",
              "      <td>Released</td>\n",
              "      <td>Friends are the people who let you be yourself...</td>\n",
              "      <td>Waiting to Exhale</td>\n",
              "      <td>False</td>\n",
              "      <td>6.1</td>\n",
              "      <td>34.0</td>\n",
              "    </tr>\n",
              "    <tr>\n",
              "      <th>4</th>\n",
              "      <td>False</td>\n",
              "      <td>{'id': 96871, 'name': 'Father of the Bride Col...</td>\n",
              "      <td>0</td>\n",
              "      <td>[{'id': 35, 'name': 'Comedy'}]</td>\n",
              "      <td>NaN</td>\n",
              "      <td>11862</td>\n",
              "      <td>tt0113041</td>\n",
              "      <td>en</td>\n",
              "      <td>Father of the Bride Part II</td>\n",
              "      <td>Just when George Banks has recovered from his ...</td>\n",
              "      <td>8.38752</td>\n",
              "      <td>/e64sOI48hQXyru7naBFyssKFxVd.jpg</td>\n",
              "      <td>[{'name': 'Sandollar Productions', 'id': 5842}...</td>\n",
              "      <td>[{'iso_3166_1': 'US', 'name': 'United States o...</td>\n",
              "      <td>1995-02-10</td>\n",
              "      <td>76578911.0</td>\n",
              "      <td>106.0</td>\n",
              "      <td>[{'iso_639_1': 'en', 'name': 'English'}]</td>\n",
              "      <td>Released</td>\n",
              "      <td>Just When His World Is Back To Normal... He's ...</td>\n",
              "      <td>Father of the Bride Part II</td>\n",
              "      <td>False</td>\n",
              "      <td>5.7</td>\n",
              "      <td>173.0</td>\n",
              "    </tr>\n",
              "  </tbody>\n",
              "</table>\n",
              "</div>"
            ],
            "text/plain": [
              "   adult  ... vote_count\n",
              "0  False  ...     5415.0\n",
              "1  False  ...     2413.0\n",
              "2  False  ...       92.0\n",
              "3  False  ...       34.0\n",
              "4  False  ...      173.0\n",
              "\n",
              "[5 rows x 24 columns]"
            ]
          },
          "metadata": {},
          "execution_count": 3
        }
      ]
    },
    {
      "cell_type": "code",
      "metadata": {
        "id": "oCp_ErJksxZm",
        "colab": {
          "base_uri": "https://localhost:8080/",
          "height": 203
        },
        "outputId": "81554edd-ef9a-4197-aad1-279e661695de"
      },
      "source": [
        "# 取用部分欄位\n",
        "df_metadata = df_metadata[['genres','id','overview','status','original_title']]\n",
        "df_metadata.head()"
      ],
      "execution_count": null,
      "outputs": [
        {
          "output_type": "execute_result",
          "data": {
            "text/html": [
              "<div>\n",
              "<style scoped>\n",
              "    .dataframe tbody tr th:only-of-type {\n",
              "        vertical-align: middle;\n",
              "    }\n",
              "\n",
              "    .dataframe tbody tr th {\n",
              "        vertical-align: top;\n",
              "    }\n",
              "\n",
              "    .dataframe thead th {\n",
              "        text-align: right;\n",
              "    }\n",
              "</style>\n",
              "<table border=\"1\" class=\"dataframe\">\n",
              "  <thead>\n",
              "    <tr style=\"text-align: right;\">\n",
              "      <th></th>\n",
              "      <th>genres</th>\n",
              "      <th>id</th>\n",
              "      <th>overview</th>\n",
              "      <th>status</th>\n",
              "      <th>original_title</th>\n",
              "    </tr>\n",
              "  </thead>\n",
              "  <tbody>\n",
              "    <tr>\n",
              "      <th>0</th>\n",
              "      <td>[{'id': 16, 'name': 'Animation'}, {'id': 35, '...</td>\n",
              "      <td>862</td>\n",
              "      <td>Led by Woody, Andy's toys live happily in his ...</td>\n",
              "      <td>Released</td>\n",
              "      <td>Toy Story</td>\n",
              "    </tr>\n",
              "    <tr>\n",
              "      <th>1</th>\n",
              "      <td>[{'id': 12, 'name': 'Adventure'}, {'id': 14, '...</td>\n",
              "      <td>8844</td>\n",
              "      <td>When siblings Judy and Peter discover an encha...</td>\n",
              "      <td>Released</td>\n",
              "      <td>Jumanji</td>\n",
              "    </tr>\n",
              "    <tr>\n",
              "      <th>2</th>\n",
              "      <td>[{'id': 10749, 'name': 'Romance'}, {'id': 35, ...</td>\n",
              "      <td>15602</td>\n",
              "      <td>A family wedding reignites the ancient feud be...</td>\n",
              "      <td>Released</td>\n",
              "      <td>Grumpier Old Men</td>\n",
              "    </tr>\n",
              "    <tr>\n",
              "      <th>3</th>\n",
              "      <td>[{'id': 35, 'name': 'Comedy'}, {'id': 18, 'nam...</td>\n",
              "      <td>31357</td>\n",
              "      <td>Cheated on, mistreated and stepped on, the wom...</td>\n",
              "      <td>Released</td>\n",
              "      <td>Waiting to Exhale</td>\n",
              "    </tr>\n",
              "    <tr>\n",
              "      <th>4</th>\n",
              "      <td>[{'id': 35, 'name': 'Comedy'}]</td>\n",
              "      <td>11862</td>\n",
              "      <td>Just when George Banks has recovered from his ...</td>\n",
              "      <td>Released</td>\n",
              "      <td>Father of the Bride Part II</td>\n",
              "    </tr>\n",
              "  </tbody>\n",
              "</table>\n",
              "</div>"
            ],
            "text/plain": [
              "                                              genres  ...               original_title\n",
              "0  [{'id': 16, 'name': 'Animation'}, {'id': 35, '...  ...                    Toy Story\n",
              "1  [{'id': 12, 'name': 'Adventure'}, {'id': 14, '...  ...                      Jumanji\n",
              "2  [{'id': 10749, 'name': 'Romance'}, {'id': 35, ...  ...             Grumpier Old Men\n",
              "3  [{'id': 35, 'name': 'Comedy'}, {'id': 18, 'nam...  ...            Waiting to Exhale\n",
              "4                     [{'id': 35, 'name': 'Comedy'}]  ...  Father of the Bride Part II\n",
              "\n",
              "[5 rows x 5 columns]"
            ]
          },
          "metadata": {},
          "execution_count": 5
        }
      ]
    },
    {
      "cell_type": "code",
      "metadata": {
        "id": "eouMRIqntyzc",
        "colab": {
          "base_uri": "https://localhost:8080/",
          "height": 417
        },
        "outputId": "7cfc1753-52ca-45a1-dba7-fd199ec6ca72"
      },
      "source": [
        "# 查看status欄位的所有不重複值\n",
        "df_metadata.status.unique()\n",
        "\n",
        "# 取出status欄位為Released的資料(row)\n",
        "df_metadata = df_metadata[df_metadata['status'].isin(['Released'])]\n",
        "df_metadata = df_metadata[df_metadata['status']=='Released']\n",
        "df_metadata"
      ],
      "execution_count": null,
      "outputs": [
        {
          "output_type": "execute_result",
          "data": {
            "text/html": [
              "<div>\n",
              "<style scoped>\n",
              "    .dataframe tbody tr th:only-of-type {\n",
              "        vertical-align: middle;\n",
              "    }\n",
              "\n",
              "    .dataframe tbody tr th {\n",
              "        vertical-align: top;\n",
              "    }\n",
              "\n",
              "    .dataframe thead th {\n",
              "        text-align: right;\n",
              "    }\n",
              "</style>\n",
              "<table border=\"1\" class=\"dataframe\">\n",
              "  <thead>\n",
              "    <tr style=\"text-align: right;\">\n",
              "      <th></th>\n",
              "      <th>genres</th>\n",
              "      <th>id</th>\n",
              "      <th>overview</th>\n",
              "      <th>status</th>\n",
              "      <th>original_title</th>\n",
              "    </tr>\n",
              "  </thead>\n",
              "  <tbody>\n",
              "    <tr>\n",
              "      <th>0</th>\n",
              "      <td>[{'id': 16, 'name': 'Animation'}, {'id': 35, '...</td>\n",
              "      <td>862</td>\n",
              "      <td>Led by Woody, Andy's toys live happily in his ...</td>\n",
              "      <td>Released</td>\n",
              "      <td>Toy Story</td>\n",
              "    </tr>\n",
              "    <tr>\n",
              "      <th>1</th>\n",
              "      <td>[{'id': 12, 'name': 'Adventure'}, {'id': 14, '...</td>\n",
              "      <td>8844</td>\n",
              "      <td>When siblings Judy and Peter discover an encha...</td>\n",
              "      <td>Released</td>\n",
              "      <td>Jumanji</td>\n",
              "    </tr>\n",
              "    <tr>\n",
              "      <th>2</th>\n",
              "      <td>[{'id': 10749, 'name': 'Romance'}, {'id': 35, ...</td>\n",
              "      <td>15602</td>\n",
              "      <td>A family wedding reignites the ancient feud be...</td>\n",
              "      <td>Released</td>\n",
              "      <td>Grumpier Old Men</td>\n",
              "    </tr>\n",
              "    <tr>\n",
              "      <th>3</th>\n",
              "      <td>[{'id': 35, 'name': 'Comedy'}, {'id': 18, 'nam...</td>\n",
              "      <td>31357</td>\n",
              "      <td>Cheated on, mistreated and stepped on, the wom...</td>\n",
              "      <td>Released</td>\n",
              "      <td>Waiting to Exhale</td>\n",
              "    </tr>\n",
              "    <tr>\n",
              "      <th>4</th>\n",
              "      <td>[{'id': 35, 'name': 'Comedy'}]</td>\n",
              "      <td>11862</td>\n",
              "      <td>Just when George Banks has recovered from his ...</td>\n",
              "      <td>Released</td>\n",
              "      <td>Father of the Bride Part II</td>\n",
              "    </tr>\n",
              "    <tr>\n",
              "      <th>...</th>\n",
              "      <td>...</td>\n",
              "      <td>...</td>\n",
              "      <td>...</td>\n",
              "      <td>...</td>\n",
              "      <td>...</td>\n",
              "    </tr>\n",
              "    <tr>\n",
              "      <th>45461</th>\n",
              "      <td>[{'id': 18, 'name': 'Drama'}, {'id': 10751, 'n...</td>\n",
              "      <td>439050</td>\n",
              "      <td>Rising and falling between a man and woman.</td>\n",
              "      <td>Released</td>\n",
              "      <td>رگ خواب</td>\n",
              "    </tr>\n",
              "    <tr>\n",
              "      <th>45462</th>\n",
              "      <td>[{'id': 18, 'name': 'Drama'}]</td>\n",
              "      <td>111109</td>\n",
              "      <td>An artist struggles to finish his work while a...</td>\n",
              "      <td>Released</td>\n",
              "      <td>Siglo ng Pagluluwal</td>\n",
              "    </tr>\n",
              "    <tr>\n",
              "      <th>45463</th>\n",
              "      <td>[{'id': 28, 'name': 'Action'}, {'id': 18, 'nam...</td>\n",
              "      <td>67758</td>\n",
              "      <td>When one of her hits goes wrong, a professiona...</td>\n",
              "      <td>Released</td>\n",
              "      <td>Betrayal</td>\n",
              "    </tr>\n",
              "    <tr>\n",
              "      <th>45464</th>\n",
              "      <td>[]</td>\n",
              "      <td>227506</td>\n",
              "      <td>In a small town live two brothers, one a minis...</td>\n",
              "      <td>Released</td>\n",
              "      <td>Satana likuyushchiy</td>\n",
              "    </tr>\n",
              "    <tr>\n",
              "      <th>45465</th>\n",
              "      <td>[]</td>\n",
              "      <td>461257</td>\n",
              "      <td>50 years after decriminalisation of homosexual...</td>\n",
              "      <td>Released</td>\n",
              "      <td>Queerama</td>\n",
              "    </tr>\n",
              "  </tbody>\n",
              "</table>\n",
              "<p>45014 rows × 5 columns</p>\n",
              "</div>"
            ],
            "text/plain": [
              "                                                  genres  ...               original_title\n",
              "0      [{'id': 16, 'name': 'Animation'}, {'id': 35, '...  ...                    Toy Story\n",
              "1      [{'id': 12, 'name': 'Adventure'}, {'id': 14, '...  ...                      Jumanji\n",
              "2      [{'id': 10749, 'name': 'Romance'}, {'id': 35, ...  ...             Grumpier Old Men\n",
              "3      [{'id': 35, 'name': 'Comedy'}, {'id': 18, 'nam...  ...            Waiting to Exhale\n",
              "4                         [{'id': 35, 'name': 'Comedy'}]  ...  Father of the Bride Part II\n",
              "...                                                  ...  ...                          ...\n",
              "45461  [{'id': 18, 'name': 'Drama'}, {'id': 10751, 'n...  ...                      رگ خواب\n",
              "45462                      [{'id': 18, 'name': 'Drama'}]  ...          Siglo ng Pagluluwal\n",
              "45463  [{'id': 28, 'name': 'Action'}, {'id': 18, 'nam...  ...                     Betrayal\n",
              "45464                                                 []  ...          Satana likuyushchiy\n",
              "45465                                                 []  ...                     Queerama\n",
              "\n",
              "[45014 rows x 5 columns]"
            ]
          },
          "metadata": {},
          "execution_count": 6
        }
      ]
    },
    {
      "cell_type": "code",
      "metadata": {
        "id": "Wi32gFfis1zu",
        "colab": {
          "base_uri": "https://localhost:8080/"
        },
        "outputId": "67d0b0e6-b7f7-4e87-f9d0-830d8eaba259"
      },
      "source": [
        "# 處理NaN (NaN -> 空白)\n",
        "df_metadata['overview'] = df_metadata['overview'].fillna('')\n",
        "df_metadata['overview']"
      ],
      "execution_count": null,
      "outputs": [
        {
          "output_type": "execute_result",
          "data": {
            "text/plain": [
              "0        Led by Woody, Andy's toys live happily in his ...\n",
              "1        When siblings Judy and Peter discover an encha...\n",
              "2        A family wedding reignites the ancient feud be...\n",
              "3        Cheated on, mistreated and stepped on, the wom...\n",
              "4        Just when George Banks has recovered from his ...\n",
              "                               ...                        \n",
              "45461          Rising and falling between a man and woman.\n",
              "45462    An artist struggles to finish his work while a...\n",
              "45463    When one of her hits goes wrong, a professiona...\n",
              "45464    In a small town live two brothers, one a minis...\n",
              "45465    50 years after decriminalisation of homosexual...\n",
              "Name: overview, Length: 45014, dtype: object"
            ]
          },
          "metadata": {},
          "execution_count": 7
        }
      ]
    },
    {
      "cell_type": "code",
      "metadata": {
        "id": "uYDLmJ7cnb_U",
        "colab": {
          "base_uri": "https://localhost:8080/",
          "height": 88
        },
        "outputId": "20d8596e-cf3b-41ce-a2cb-fb17effdcb1f"
      },
      "source": [
        "# 文字前處理\n",
        "import nltk\n",
        "nltk.download('wordnet')\n",
        "\n",
        "import re\n",
        "from gensim.utils import simple_preprocess\n",
        "from gensim.parsing.preprocessing import STOPWORDS\n",
        "\n",
        "from nltk.stem import WordNetLemmatizer\n",
        "lemmatizer = WordNetLemmatizer()\n",
        "\n",
        "def preprocess(text):\n",
        "    processed_text = []\n",
        "    for token in simple_preprocess(text):\n",
        "        if token not in STOPWORDS:\n",
        "            token = lemmatizer.lemmatize(token, pos='v')\n",
        "            token = lemmatizer.lemmatize(token, pos='n')\n",
        "            processed_text.append(token)\n",
        "    return ' '.join(processed_text)\n",
        "\n",
        "df_metadata['overview'] = df_metadata['overview'].astype('str')\n",
        "df_metadata['overview'] = df_metadata['overview'].apply(preprocess)\n",
        "df_metadata['overview'][0]"
      ],
      "execution_count": null,
      "outputs": [
        {
          "output_type": "stream",
          "name": "stdout",
          "text": [
            "[nltk_data] Downloading package wordnet to /root/nltk_data...\n",
            "[nltk_data]   Unzipping corpora/wordnet.zip.\n"
          ]
        },
        {
          "output_type": "execute_result",
          "data": {
            "application/vnd.google.colaboratory.intrinsic+json": {
              "type": "string"
            },
            "text/plain": [
              "'lead woody andy toy live happily room andy birthday bring buzz lightyear scene afraid lose place andy heart woody plot buzz circumstance separate buzz woody owner duo eventually learn aside difference'"
            ]
          },
          "metadata": {},
          "execution_count": 8
        }
      ]
    },
    {
      "cell_type": "code",
      "metadata": {
        "id": "cfCxyH6owxom",
        "colab": {
          "base_uri": "https://localhost:8080/",
          "height": 35
        },
        "outputId": "3b9cd7ac-f692-4607-8fad-c308597b0db7"
      },
      "source": [
        "# 查看第一筆資料的genres內容\n",
        "df_metadata['genres'][0]"
      ],
      "execution_count": null,
      "outputs": [
        {
          "output_type": "execute_result",
          "data": {
            "application/vnd.google.colaboratory.intrinsic+json": {
              "type": "string"
            },
            "text/plain": [
              "\"[{'id': 16, 'name': 'Animation'}, {'id': 35, 'name': 'Comedy'}, {'id': 10751, 'name': 'Family'}]\""
            ]
          },
          "metadata": {},
          "execution_count": 9
        }
      ]
    },
    {
      "cell_type": "code",
      "metadata": {
        "id": "PWVi91k3xM8R",
        "colab": {
          "base_uri": "https://localhost:8080/",
          "height": 35
        },
        "outputId": "050539ef-8641-483f-aff5-6a7cc5077d24"
      },
      "source": [
        "# *** eval()是用來執行一個字串表達式(執行字串內容)\n",
        "# *** literal_eval()則先判斷該表達式是否安全\n",
        "from ast import literal_eval\n",
        "\n",
        "# 取出name的值，並用空白連接起來\n",
        "def get_names_from_json_string(a_string):\n",
        "    a_list = literal_eval(a_string)\n",
        "    combined_names_list = [a_dict['name'] for a_dict in a_list]\n",
        "    combined_names_string = ' '.join(combined_names_list)\n",
        "    return combined_names_string\n",
        "\n",
        "# 以apply對df_metadata中的每一筆資料執行get_genres這個函示\n",
        "df_metadata['genres'] = df_metadata['genres'].apply(get_names_from_json_string)\n",
        "df_metadata['genres'][0]"
      ],
      "execution_count": null,
      "outputs": [
        {
          "output_type": "execute_result",
          "data": {
            "application/vnd.google.colaboratory.intrinsic+json": {
              "type": "string"
            },
            "text/plain": [
              "'Animation Comedy Family'"
            ]
          },
          "metadata": {},
          "execution_count": 10
        }
      ]
    },
    {
      "cell_type": "markdown",
      "metadata": {
        "id": "7I9wYLtp8mR0"
      },
      "source": [
        "### Processing for Credits"
      ]
    },
    {
      "cell_type": "code",
      "metadata": {
        "id": "WusnoNQf5Dty",
        "colab": {
          "base_uri": "https://localhost:8080/",
          "height": 80
        },
        "outputId": "2426b24d-7204-4fae-ce3b-a0266f5b017b"
      },
      "source": [
        "# 載入資料\n",
        "df_credits = pd.read_csv(PATH + 'imdb_credits.csv')\n",
        "\n",
        "# 顯示前5筆資料\n",
        "df_credits.head(1)"
      ],
      "execution_count": null,
      "outputs": [
        {
          "output_type": "execute_result",
          "data": {
            "text/html": [
              "<div>\n",
              "<style scoped>\n",
              "    .dataframe tbody tr th:only-of-type {\n",
              "        vertical-align: middle;\n",
              "    }\n",
              "\n",
              "    .dataframe tbody tr th {\n",
              "        vertical-align: top;\n",
              "    }\n",
              "\n",
              "    .dataframe thead th {\n",
              "        text-align: right;\n",
              "    }\n",
              "</style>\n",
              "<table border=\"1\" class=\"dataframe\">\n",
              "  <thead>\n",
              "    <tr style=\"text-align: right;\">\n",
              "      <th></th>\n",
              "      <th>cast</th>\n",
              "      <th>crew</th>\n",
              "      <th>id</th>\n",
              "    </tr>\n",
              "  </thead>\n",
              "  <tbody>\n",
              "    <tr>\n",
              "      <th>0</th>\n",
              "      <td>[{'cast_id': 14, 'character': 'Woody (voice)',...</td>\n",
              "      <td>[{'credit_id': '52fe4284c3a36847f8024f49', 'de...</td>\n",
              "      <td>862</td>\n",
              "    </tr>\n",
              "  </tbody>\n",
              "</table>\n",
              "</div>"
            ],
            "text/plain": [
              "                                                cast  ...   id\n",
              "0  [{'cast_id': 14, 'character': 'Woody (voice)',...  ...  862\n",
              "\n",
              "[1 rows x 3 columns]"
            ]
          },
          "metadata": {},
          "execution_count": 11
        }
      ]
    },
    {
      "cell_type": "code",
      "metadata": {
        "id": "S6_KyzWM9TId",
        "colab": {
          "base_uri": "https://localhost:8080/"
        },
        "outputId": "eba54658-9016-4c85-d502-21ce49cc9f04"
      },
      "source": [
        "# 顯示第一筆資料的cast的內容\n",
        "literal_eval(df_credits['cast'][0])"
      ],
      "execution_count": null,
      "outputs": [
        {
          "output_type": "execute_result",
          "data": {
            "text/plain": [
              "[{'cast_id': 14,\n",
              "  'character': 'Woody (voice)',\n",
              "  'credit_id': '52fe4284c3a36847f8024f95',\n",
              "  'gender': 2,\n",
              "  'id': 31,\n",
              "  'name': 'Tom Hanks',\n",
              "  'order': 0,\n",
              "  'profile_path': '/pQFoyx7rp09CJTAb932F2g8Nlho.jpg'},\n",
              " {'cast_id': 15,\n",
              "  'character': 'Buzz Lightyear (voice)',\n",
              "  'credit_id': '52fe4284c3a36847f8024f99',\n",
              "  'gender': 2,\n",
              "  'id': 12898,\n",
              "  'name': 'Tim Allen',\n",
              "  'order': 1,\n",
              "  'profile_path': '/uX2xVf6pMmPepxnvFWyBtjexzgY.jpg'},\n",
              " {'cast_id': 16,\n",
              "  'character': 'Mr. Potato Head (voice)',\n",
              "  'credit_id': '52fe4284c3a36847f8024f9d',\n",
              "  'gender': 2,\n",
              "  'id': 7167,\n",
              "  'name': 'Don Rickles',\n",
              "  'order': 2,\n",
              "  'profile_path': '/h5BcaDMPRVLHLDzbQavec4xfSdt.jpg'},\n",
              " {'cast_id': 17,\n",
              "  'character': 'Slinky Dog (voice)',\n",
              "  'credit_id': '52fe4284c3a36847f8024fa1',\n",
              "  'gender': 2,\n",
              "  'id': 12899,\n",
              "  'name': 'Jim Varney',\n",
              "  'order': 3,\n",
              "  'profile_path': '/eIo2jVVXYgjDtaHoF19Ll9vtW7h.jpg'},\n",
              " {'cast_id': 18,\n",
              "  'character': 'Rex (voice)',\n",
              "  'credit_id': '52fe4284c3a36847f8024fa5',\n",
              "  'gender': 2,\n",
              "  'id': 12900,\n",
              "  'name': 'Wallace Shawn',\n",
              "  'order': 4,\n",
              "  'profile_path': '/oGE6JqPP2xH4tNORKNqxbNPYi7u.jpg'},\n",
              " {'cast_id': 19,\n",
              "  'character': 'Hamm (voice)',\n",
              "  'credit_id': '52fe4284c3a36847f8024fa9',\n",
              "  'gender': 2,\n",
              "  'id': 7907,\n",
              "  'name': 'John Ratzenberger',\n",
              "  'order': 5,\n",
              "  'profile_path': '/yGechiKWL6TJDfVE2KPSJYqdMsY.jpg'},\n",
              " {'cast_id': 20,\n",
              "  'character': 'Bo Peep (voice)',\n",
              "  'credit_id': '52fe4284c3a36847f8024fad',\n",
              "  'gender': 1,\n",
              "  'id': 8873,\n",
              "  'name': 'Annie Potts',\n",
              "  'order': 6,\n",
              "  'profile_path': '/eryXT84RL41jHSJcMy4kS3u9y6w.jpg'},\n",
              " {'cast_id': 26,\n",
              "  'character': 'Andy (voice)',\n",
              "  'credit_id': '52fe4284c3a36847f8024fc1',\n",
              "  'gender': 0,\n",
              "  'id': 1116442,\n",
              "  'name': 'John Morris',\n",
              "  'order': 7,\n",
              "  'profile_path': '/vYGyvK4LzeaUCoNSHtsuqJUY15M.jpg'},\n",
              " {'cast_id': 22,\n",
              "  'character': 'Sid (voice)',\n",
              "  'credit_id': '52fe4284c3a36847f8024fb1',\n",
              "  'gender': 2,\n",
              "  'id': 12901,\n",
              "  'name': 'Erik von Detten',\n",
              "  'order': 8,\n",
              "  'profile_path': '/twnF1ZaJ1FUNUuo6xLXwcxjayBE.jpg'},\n",
              " {'cast_id': 23,\n",
              "  'character': 'Mrs. Davis (voice)',\n",
              "  'credit_id': '52fe4284c3a36847f8024fb5',\n",
              "  'gender': 1,\n",
              "  'id': 12133,\n",
              "  'name': 'Laurie Metcalf',\n",
              "  'order': 9,\n",
              "  'profile_path': '/unMMIT60eoBM2sN2nyR7EZ2BvvD.jpg'},\n",
              " {'cast_id': 24,\n",
              "  'character': 'Sergeant (voice)',\n",
              "  'credit_id': '52fe4284c3a36847f8024fb9',\n",
              "  'gender': 2,\n",
              "  'id': 8655,\n",
              "  'name': 'R. Lee Ermey',\n",
              "  'order': 10,\n",
              "  'profile_path': '/r8GBqFBjypLUP9VVqDqfZ7wYbSs.jpg'},\n",
              " {'cast_id': 25,\n",
              "  'character': 'Hannah (voice)',\n",
              "  'credit_id': '52fe4284c3a36847f8024fbd',\n",
              "  'gender': 1,\n",
              "  'id': 12903,\n",
              "  'name': 'Sarah Freeman',\n",
              "  'order': 11,\n",
              "  'profile_path': None},\n",
              " {'cast_id': 27,\n",
              "  'character': 'TV Announcer (voice)',\n",
              "  'credit_id': '52fe4284c3a36847f8024fc5',\n",
              "  'gender': 2,\n",
              "  'id': 37221,\n",
              "  'name': 'Penn Jillette',\n",
              "  'order': 12,\n",
              "  'profile_path': '/zmAaXUdx12NRsssgHbk1T31j2x9.jpg'}]"
            ]
          },
          "metadata": {},
          "execution_count": 12
        }
      ]
    },
    {
      "cell_type": "code",
      "metadata": {
        "id": "mhTdvnBwkj9n",
        "colab": {
          "base_uri": "https://localhost:8080/",
          "height": 53
        },
        "outputId": "9c873c28-a3b6-4265-c0d9-c4aacd04f62b"
      },
      "source": [
        "# 取出cast(所有演員姓名)，並以空白連接\n",
        "df_credits['cast'] = df_credits['cast'].apply(get_names_from_json_string)\n",
        "\n",
        "# 顯示第一筆資料的cast的內容\n",
        "df_credits['cast'][0]"
      ],
      "execution_count": null,
      "outputs": [
        {
          "output_type": "execute_result",
          "data": {
            "application/vnd.google.colaboratory.intrinsic+json": {
              "type": "string"
            },
            "text/plain": [
              "'Tom Hanks Tim Allen Don Rickles Jim Varney Wallace Shawn John Ratzenberger Annie Potts John Morris Erik von Detten Laurie Metcalf R. Lee Ermey Sarah Freeman Penn Jillette'"
            ]
          },
          "metadata": {},
          "execution_count": 13
        }
      ]
    },
    {
      "cell_type": "code",
      "metadata": {
        "id": "GYIHfHoIWKla",
        "colab": {
          "base_uri": "https://localhost:8080/"
        },
        "outputId": "f9888bfd-6d27-426f-85e3-b38528fa8527"
      },
      "source": [
        "# 顯示第一筆資料的crew的內容\n",
        "literal_eval(df_credits['crew'][0])"
      ],
      "execution_count": null,
      "outputs": [
        {
          "output_type": "execute_result",
          "data": {
            "text/plain": [
              "[{'credit_id': '52fe4284c3a36847f8024f49',\n",
              "  'department': 'Directing',\n",
              "  'gender': 2,\n",
              "  'id': 7879,\n",
              "  'job': 'Director',\n",
              "  'name': 'John Lasseter',\n",
              "  'profile_path': '/7EdqiNbr4FRjIhKHyPPdFfEEEFG.jpg'},\n",
              " {'credit_id': '52fe4284c3a36847f8024f4f',\n",
              "  'department': 'Writing',\n",
              "  'gender': 2,\n",
              "  'id': 12891,\n",
              "  'job': 'Screenplay',\n",
              "  'name': 'Joss Whedon',\n",
              "  'profile_path': '/dTiVsuaTVTeGmvkhcyJvKp2A5kr.jpg'},\n",
              " {'credit_id': '52fe4284c3a36847f8024f55',\n",
              "  'department': 'Writing',\n",
              "  'gender': 2,\n",
              "  'id': 7,\n",
              "  'job': 'Screenplay',\n",
              "  'name': 'Andrew Stanton',\n",
              "  'profile_path': '/pvQWsu0qc8JFQhMVJkTHuexUAa1.jpg'},\n",
              " {'credit_id': '52fe4284c3a36847f8024f5b',\n",
              "  'department': 'Writing',\n",
              "  'gender': 2,\n",
              "  'id': 12892,\n",
              "  'job': 'Screenplay',\n",
              "  'name': 'Joel Cohen',\n",
              "  'profile_path': '/dAubAiZcvKFbboWlj7oXOkZnTSu.jpg'},\n",
              " {'credit_id': '52fe4284c3a36847f8024f61',\n",
              "  'department': 'Writing',\n",
              "  'gender': 0,\n",
              "  'id': 12893,\n",
              "  'job': 'Screenplay',\n",
              "  'name': 'Alec Sokolow',\n",
              "  'profile_path': '/v79vlRYi94BZUQnkkyznbGUZLjT.jpg'},\n",
              " {'credit_id': '52fe4284c3a36847f8024f67',\n",
              "  'department': 'Production',\n",
              "  'gender': 1,\n",
              "  'id': 12894,\n",
              "  'job': 'Producer',\n",
              "  'name': 'Bonnie Arnold',\n",
              "  'profile_path': None},\n",
              " {'credit_id': '52fe4284c3a36847f8024f6d',\n",
              "  'department': 'Production',\n",
              "  'gender': 0,\n",
              "  'id': 12895,\n",
              "  'job': 'Executive Producer',\n",
              "  'name': 'Ed Catmull',\n",
              "  'profile_path': None},\n",
              " {'credit_id': '52fe4284c3a36847f8024f73',\n",
              "  'department': 'Production',\n",
              "  'gender': 2,\n",
              "  'id': 12896,\n",
              "  'job': 'Producer',\n",
              "  'name': 'Ralph Guggenheim',\n",
              "  'profile_path': None},\n",
              " {'credit_id': '52fe4284c3a36847f8024f79',\n",
              "  'department': 'Production',\n",
              "  'gender': 2,\n",
              "  'id': 12897,\n",
              "  'job': 'Executive Producer',\n",
              "  'name': 'Steve Jobs',\n",
              "  'profile_path': '/mOMP3SwD5qWQSR0ldCIByd3guTV.jpg'},\n",
              " {'credit_id': '52fe4284c3a36847f8024f8b',\n",
              "  'department': 'Editing',\n",
              "  'gender': 2,\n",
              "  'id': 8,\n",
              "  'job': 'Editor',\n",
              "  'name': 'Lee Unkrich',\n",
              "  'profile_path': '/bdTCCXjgOV3YyaNmLGYGOxFQMOc.jpg'},\n",
              " {'credit_id': '52fe4284c3a36847f8024f91',\n",
              "  'department': 'Art',\n",
              "  'gender': 2,\n",
              "  'id': 7883,\n",
              "  'job': 'Art Direction',\n",
              "  'name': 'Ralph Eggleston',\n",
              "  'profile_path': '/uUfcGKDsKO1aROMpXRs67Hn6RvR.jpg'},\n",
              " {'credit_id': '598331bf925141421201044b',\n",
              "  'department': 'Editing',\n",
              "  'gender': 2,\n",
              "  'id': 1168870,\n",
              "  'job': 'Editor',\n",
              "  'name': 'Robert Gordon',\n",
              "  'profile_path': None},\n",
              " {'credit_id': '5892168cc3a36809660095f9',\n",
              "  'department': 'Sound',\n",
              "  'gender': 0,\n",
              "  'id': 1552883,\n",
              "  'job': 'Foley Editor',\n",
              "  'name': 'Mary Helen Leasman',\n",
              "  'profile_path': None},\n",
              " {'credit_id': '5531824d9251415289000945',\n",
              "  'department': 'Visual Effects',\n",
              "  'gender': 0,\n",
              "  'id': 1453514,\n",
              "  'job': 'Animation',\n",
              "  'name': 'Kim Blanchette',\n",
              "  'profile_path': None},\n",
              " {'credit_id': '589215969251412dcb009bf6',\n",
              "  'department': 'Sound',\n",
              "  'gender': 0,\n",
              "  'id': 1414182,\n",
              "  'job': 'ADR Editor',\n",
              "  'name': 'Marilyn McCoppen',\n",
              "  'profile_path': None},\n",
              " {'credit_id': '589217099251412dc500a018',\n",
              "  'department': 'Sound',\n",
              "  'gender': 2,\n",
              "  'id': 7885,\n",
              "  'job': 'Orchestrator',\n",
              "  'name': 'Randy Newman',\n",
              "  'profile_path': '/w0JzfoiM25nrnxYOzosPHRq6mlE.jpg'},\n",
              " {'credit_id': '5693e6b29251417b0e0000e3',\n",
              "  'department': 'Editing',\n",
              "  'gender': 0,\n",
              "  'id': 1429549,\n",
              "  'job': 'Color Timer',\n",
              "  'name': 'Dale E. Grahn',\n",
              "  'profile_path': None},\n",
              " {'credit_id': '572e2522c3a36869e6001a9c',\n",
              "  'department': 'Visual Effects',\n",
              "  'gender': 0,\n",
              "  'id': 7949,\n",
              "  'job': 'CG Painter',\n",
              "  'name': 'Robin Cooper',\n",
              "  'profile_path': None},\n",
              " {'credit_id': '574f12309251415ca1000012',\n",
              "  'department': 'Writing',\n",
              "  'gender': 2,\n",
              "  'id': 7879,\n",
              "  'job': 'Original Story',\n",
              "  'name': 'John Lasseter',\n",
              "  'profile_path': '/7EdqiNbr4FRjIhKHyPPdFfEEEFG.jpg'},\n",
              " {'credit_id': '574f1240c3a3682e7300001c',\n",
              "  'department': 'Writing',\n",
              "  'gender': 2,\n",
              "  'id': 12890,\n",
              "  'job': 'Original Story',\n",
              "  'name': 'Pete Docter',\n",
              "  'profile_path': '/r6ngPgnReA3RHmKjmSoVsc6Awjp.jpg'},\n",
              " {'credit_id': '574f12519251415c92000015',\n",
              "  'department': 'Writing',\n",
              "  'gender': 0,\n",
              "  'id': 7911,\n",
              "  'job': 'Original Story',\n",
              "  'name': 'Joe Ranft',\n",
              "  'profile_path': '/f1BoWC2JbCcfP1e5hKfGsxkHzVU.jpg'},\n",
              " {'credit_id': '574f12cec3a3682e82000022',\n",
              "  'department': 'Crew',\n",
              "  'gender': 0,\n",
              "  'id': 1629419,\n",
              "  'job': 'Post Production Supervisor',\n",
              "  'name': 'Patsy Bouge',\n",
              "  'profile_path': None},\n",
              " {'credit_id': '574f14f19251415ca1000082',\n",
              "  'department': 'Art',\n",
              "  'gender': 0,\n",
              "  'id': 7961,\n",
              "  'job': 'Sculptor',\n",
              "  'name': 'Norm DeCarlo',\n",
              "  'profile_path': None},\n",
              " {'credit_id': '5751ae4bc3a3683772002b7f',\n",
              "  'department': 'Visual Effects',\n",
              "  'gender': 2,\n",
              "  'id': 12905,\n",
              "  'job': 'Animation Director',\n",
              "  'name': 'Ash Brannon',\n",
              "  'profile_path': '/6ueWgPEEBHvS3De2BHYQnYjRTig.jpg'},\n",
              " {'credit_id': '5891edbe9251412dc5007cd6',\n",
              "  'department': 'Sound',\n",
              "  'gender': 2,\n",
              "  'id': 7885,\n",
              "  'job': 'Music',\n",
              "  'name': 'Randy Newman',\n",
              "  'profile_path': '/w0JzfoiM25nrnxYOzosPHRq6mlE.jpg'},\n",
              " {'credit_id': '589213d39251412dc8009832',\n",
              "  'department': 'Directing',\n",
              "  'gender': 0,\n",
              "  'id': 1748707,\n",
              "  'job': 'Layout',\n",
              "  'name': 'Roman Figun',\n",
              "  'profile_path': None},\n",
              " {'credit_id': '5892173dc3a3680968009351',\n",
              "  'department': 'Sound',\n",
              "  'gender': 2,\n",
              "  'id': 4949,\n",
              "  'job': 'Orchestrator',\n",
              "  'name': 'Don Davis',\n",
              "  'profile_path': None},\n",
              " {'credit_id': '589217cec3a3686b0a0052ba',\n",
              "  'department': 'Sound',\n",
              "  'gender': 0,\n",
              "  'id': 1372885,\n",
              "  'job': 'Music Editor',\n",
              "  'name': 'James Flamberg',\n",
              "  'profile_path': None},\n",
              " {'credit_id': '58921831c3a3686348004a64',\n",
              "  'department': 'Editing',\n",
              "  'gender': 0,\n",
              "  'id': 1739962,\n",
              "  'job': 'Negative Cutter',\n",
              "  'name': 'Mary Beth Smith',\n",
              "  'profile_path': None},\n",
              " {'credit_id': '58921838c3a36809700096c0',\n",
              "  'department': 'Editing',\n",
              "  'gender': 0,\n",
              "  'id': 1748513,\n",
              "  'job': 'Negative Cutter',\n",
              "  'name': 'Rick Mackay',\n",
              "  'profile_path': None},\n",
              " {'credit_id': '589218429251412dd1009d1b',\n",
              "  'department': 'Art',\n",
              "  'gender': 0,\n",
              "  'id': 1458006,\n",
              "  'job': 'Title Designer',\n",
              "  'name': 'Susan Bradley',\n",
              "  'profile_path': None},\n",
              " {'credit_id': '5891ed99c3a3680966007670',\n",
              "  'department': 'Crew',\n",
              "  'gender': 0,\n",
              "  'id': 1748557,\n",
              "  'job': 'Supervising Technical Director',\n",
              "  'name': 'William Reeves',\n",
              "  'profile_path': None},\n",
              " {'credit_id': '5891edcec3a3686b0a002eb2',\n",
              "  'department': 'Sound',\n",
              "  'gender': 2,\n",
              "  'id': 7885,\n",
              "  'job': 'Songs',\n",
              "  'name': 'Randy Newman',\n",
              "  'profile_path': '/w0JzfoiM25nrnxYOzosPHRq6mlE.jpg'},\n",
              " {'credit_id': '5891edf9c3a36809700075e6',\n",
              "  'department': 'Writing',\n",
              "  'gender': 2,\n",
              "  'id': 7,\n",
              "  'job': 'Original Story',\n",
              "  'name': 'Andrew Stanton',\n",
              "  'profile_path': '/pvQWsu0qc8JFQhMVJkTHuexUAa1.jpg'},\n",
              " {'credit_id': '58920f0b9251412dd7009104',\n",
              "  'department': 'Crew',\n",
              "  'gender': 2,\n",
              "  'id': 12890,\n",
              "  'job': 'Supervising Animator',\n",
              "  'name': 'Pete Docter',\n",
              "  'profile_path': '/r6ngPgnReA3RHmKjmSoVsc6Awjp.jpg'},\n",
              " {'credit_id': '58920f1fc3a3680977009021',\n",
              "  'department': 'Sound',\n",
              "  'gender': 2,\n",
              "  'id': 2216,\n",
              "  'job': 'Sound Designer',\n",
              "  'name': 'Gary Rydstrom',\n",
              "  'profile_path': '/jZpr1nVfO7lldWI0YtmP1FGw7Rj.jpg'},\n",
              " {'credit_id': '58920f389251412dd700912d',\n",
              "  'department': 'Production',\n",
              "  'gender': 0,\n",
              "  'id': 12909,\n",
              "  'job': 'Production Supervisor',\n",
              "  'name': 'Karen Robert Jackson',\n",
              "  'profile_path': None},\n",
              " {'credit_id': '58920fbd9251412dcb00969c',\n",
              "  'department': 'Crew',\n",
              "  'gender': 0,\n",
              "  'id': 953331,\n",
              "  'job': 'Executive Music Producer',\n",
              "  'name': 'Chris Montan',\n",
              "  'profile_path': None},\n",
              " {'credit_id': '589210069251412dd7009219',\n",
              "  'department': 'Visual Effects',\n",
              "  'gender': 0,\n",
              "  'id': 7893,\n",
              "  'job': 'Animation Director',\n",
              "  'name': 'Rich Quade',\n",
              "  'profile_path': None},\n",
              " {'credit_id': '589210329251412dcd00943b',\n",
              "  'department': 'Visual Effects',\n",
              "  'gender': 0,\n",
              "  'id': 8025,\n",
              "  'job': 'Animation',\n",
              "  'name': 'Michael Berenstein',\n",
              "  'profile_path': None},\n",
              " {'credit_id': '5892103bc3a368096a009180',\n",
              "  'department': 'Visual Effects',\n",
              "  'gender': 0,\n",
              "  'id': 78009,\n",
              "  'job': 'Animation',\n",
              "  'name': 'Colin Brady',\n",
              "  'profile_path': None},\n",
              " {'credit_id': '5892105dc3a3680968008db2',\n",
              "  'department': 'Visual Effects',\n",
              "  'gender': 0,\n",
              "  'id': 1748682,\n",
              "  'job': 'Animation',\n",
              "  'name': 'Davey Crockett Feiten',\n",
              "  'profile_path': None},\n",
              " {'credit_id': '589210669251412dcd009466',\n",
              "  'department': 'Visual Effects',\n",
              "  'gender': 0,\n",
              "  'id': 1454030,\n",
              "  'job': 'Animation',\n",
              "  'name': 'Angie Glocka',\n",
              "  'profile_path': None},\n",
              " {'credit_id': '5892107c9251412dd1009613',\n",
              "  'department': 'Visual Effects',\n",
              "  'gender': 0,\n",
              "  'id': 1748683,\n",
              "  'job': 'Animation',\n",
              "  'name': 'Rex Grignon',\n",
              "  'profile_path': None},\n",
              " {'credit_id': '5892108ac3a3680973008d3f',\n",
              "  'department': 'Visual Effects',\n",
              "  'gender': 0,\n",
              "  'id': 1748684,\n",
              "  'job': 'Animation',\n",
              "  'name': 'Tom K. Gurney',\n",
              "  'profile_path': None},\n",
              " {'credit_id': '58921093c3a3686348004477',\n",
              "  'department': 'Visual Effects',\n",
              "  'gender': 2,\n",
              "  'id': 8029,\n",
              "  'job': 'Animation',\n",
              "  'name': 'Jimmy Hayward',\n",
              "  'profile_path': '/lTDRpudEY7BDwTefXbXzMlmb0ui.jpg'},\n",
              " {'credit_id': '5892109b9251412dcd0094b0',\n",
              "  'department': 'Visual Effects',\n",
              "  'gender': 0,\n",
              "  'id': 1426773,\n",
              "  'job': 'Animation',\n",
              "  'name': 'Hal T. Hickel',\n",
              "  'profile_path': None},\n",
              " {'credit_id': '589210a29251412dc5009a29',\n",
              "  'department': 'Visual Effects',\n",
              "  'gender': 0,\n",
              "  'id': 8035,\n",
              "  'job': 'Animation',\n",
              "  'name': 'Karen Kiser',\n",
              "  'profile_path': None},\n",
              " {'credit_id': '589210ccc3a3680977009191',\n",
              "  'department': 'Visual Effects',\n",
              "  'gender': 0,\n",
              "  'id': 1748688,\n",
              "  'job': 'Animation',\n",
              "  'name': 'Anthony B. LaMolinara',\n",
              "  'profile_path': None},\n",
              " {'credit_id': '589210d7c3a3686b0a004c1f',\n",
              "  'department': 'Visual Effects',\n",
              "  'gender': 0,\n",
              "  'id': 587314,\n",
              "  'job': 'Animation',\n",
              "  'name': 'Guionne Leroy',\n",
              "  'profile_path': None},\n",
              " {'credit_id': '589210e1c3a36809770091a7',\n",
              "  'department': 'Visual Effects',\n",
              "  'gender': 2,\n",
              "  'id': 7918,\n",
              "  'job': 'Animation',\n",
              "  'name': 'Bud Luckey',\n",
              "  'profile_path': '/pcCh7G19FKMNijmPQg1PMH1btic.jpg'},\n",
              " {'credit_id': '589210ee9251412dc200978a',\n",
              "  'department': 'Visual Effects',\n",
              "  'gender': 0,\n",
              "  'id': 1748689,\n",
              "  'job': 'Animation',\n",
              "  'name': 'Les Major',\n",
              "  'profile_path': None},\n",
              " {'credit_id': '589210fa9251412dc8009595',\n",
              "  'department': 'Visual Effects',\n",
              "  'gender': 2,\n",
              "  'id': 7892,\n",
              "  'job': 'Animation',\n",
              "  'name': 'Glenn McQueen',\n",
              "  'profile_path': None},\n",
              " {'credit_id': '589211029251412dc8009598',\n",
              "  'department': 'Visual Effects',\n",
              "  'gender': 0,\n",
              "  'id': 555795,\n",
              "  'job': 'Animation',\n",
              "  'name': 'Mark Oftedal',\n",
              "  'profile_path': None},\n",
              " {'credit_id': '5892110b9251412dc800959d',\n",
              "  'department': 'Visual Effects',\n",
              "  'gender': 2,\n",
              "  'id': 7882,\n",
              "  'job': 'Animation',\n",
              "  'name': 'Jeff Pidgeon',\n",
              "  'profile_path': '/yLddkg5HcgbJg00cS13GVBnP0HY.jpg'},\n",
              " {'credit_id': '58921113c3a36863480044e4',\n",
              "  'department': 'Visual Effects',\n",
              "  'gender': 0,\n",
              "  'id': 8017,\n",
              "  'job': 'Animation',\n",
              "  'name': 'Jeff Pratt',\n",
              "  'profile_path': None},\n",
              " {'credit_id': '5892111c9251412dcb0097e9',\n",
              "  'department': 'Visual Effects',\n",
              "  'gender': 0,\n",
              "  'id': 1184140,\n",
              "  'job': 'Animation',\n",
              "  'name': 'Steve Rabatich',\n",
              "  'profile_path': None},\n",
              " {'credit_id': '58921123c3a36809700090f6',\n",
              "  'department': 'Visual Effects',\n",
              "  'gender': 0,\n",
              "  'id': 8049,\n",
              "  'job': 'Animation',\n",
              "  'name': 'Roger Rose',\n",
              "  'profile_path': None},\n",
              " {'credit_id': '5892112b9251412dcb0097fb',\n",
              "  'department': 'Visual Effects',\n",
              "  'gender': 0,\n",
              "  'id': 1509559,\n",
              "  'job': 'Animation',\n",
              "  'name': 'Steve Segal',\n",
              "  'profile_path': None},\n",
              " {'credit_id': '589211349251412dc80095c3',\n",
              "  'department': 'Visual Effects',\n",
              "  'gender': 0,\n",
              "  'id': 1748691,\n",
              "  'job': 'Animation',\n",
              "  'name': 'Doug Sheppeck',\n",
              "  'profile_path': None},\n",
              " {'credit_id': '5892113cc3a3680970009106',\n",
              "  'department': 'Visual Effects',\n",
              "  'gender': 0,\n",
              "  'id': 8050,\n",
              "  'job': 'Animation',\n",
              "  'name': 'Alan Sperling',\n",
              "  'profile_path': None},\n",
              " {'credit_id': '58921148c3a3686b0a004c99',\n",
              "  'department': 'Visual Effects',\n",
              "  'gender': 0,\n",
              "  'id': 8010,\n",
              "  'job': 'Animation',\n",
              "  'name': 'Doug Sweetland',\n",
              "  'profile_path': None},\n",
              " {'credit_id': '58921150c3a3680966009125',\n",
              "  'department': 'Visual Effects',\n",
              "  'gender': 0,\n",
              "  'id': 8044,\n",
              "  'job': 'Animation',\n",
              "  'name': 'David Tart',\n",
              "  'profile_path': None},\n",
              " {'credit_id': '589211629251412dc5009b00',\n",
              "  'department': 'Visual Effects',\n",
              "  'gender': 0,\n",
              "  'id': 1454034,\n",
              "  'job': 'Animation',\n",
              "  'name': 'Ken Willard',\n",
              "  'profile_path': None},\n",
              " {'credit_id': '589211c1c3a3686b0a004d28',\n",
              "  'department': 'Visual Effects',\n",
              "  'gender': 0,\n",
              "  'id': 7887,\n",
              "  'job': 'Visual Effects Supervisor',\n",
              "  'name': 'Thomas Porter',\n",
              "  'profile_path': None},\n",
              " {'credit_id': '589211d4c3a3680968008ed9',\n",
              "  'department': 'Visual Effects',\n",
              "  'gender': 0,\n",
              "  'id': 1406878,\n",
              "  'job': 'Visual Effects',\n",
              "  'name': 'Mark Thomas Henne',\n",
              "  'profile_path': None},\n",
              " {'credit_id': '589211f59251412dd4008e65',\n",
              "  'department': 'Visual Effects',\n",
              "  'gender': 0,\n",
              "  'id': 1748698,\n",
              "  'job': 'Visual Effects',\n",
              "  'name': 'Oren Jacob',\n",
              "  'profile_path': None},\n",
              " {'credit_id': '58921242c3a368096a00939b',\n",
              "  'department': 'Visual Effects',\n",
              "  'gender': 0,\n",
              "  'id': 1748699,\n",
              "  'job': 'Visual Effects',\n",
              "  'name': 'Darwyn Peachey',\n",
              "  'profile_path': None},\n",
              " {'credit_id': '5892124b9251412dc5009bd2',\n",
              "  'department': 'Visual Effects',\n",
              "  'gender': 0,\n",
              "  'id': 1748701,\n",
              "  'job': 'Visual Effects',\n",
              "  'name': 'Mitch Prater',\n",
              "  'profile_path': None},\n",
              " {'credit_id': '58921264c3a3686b0a004dbf',\n",
              "  'department': 'Visual Effects',\n",
              "  'gender': 0,\n",
              "  'id': 1748703,\n",
              "  'job': 'Visual Effects',\n",
              "  'name': 'Brian M. Rosen',\n",
              "  'profile_path': None},\n",
              " {'credit_id': '589212709251412dcd009676',\n",
              "  'department': 'Lighting',\n",
              "  'gender': 1,\n",
              "  'id': 12912,\n",
              "  'job': 'Lighting Supervisor',\n",
              "  'name': 'Sharon Calahan',\n",
              "  'profile_path': None},\n",
              " {'credit_id': '5892127fc3a3686b0a004de5',\n",
              "  'department': 'Lighting',\n",
              "  'gender': 0,\n",
              "  'id': 7899,\n",
              "  'job': 'Lighting Supervisor',\n",
              "  'name': 'Galyn Susman',\n",
              "  'profile_path': None},\n",
              " {'credit_id': '589212cdc3a3680970009268',\n",
              "  'department': 'Visual Effects',\n",
              "  'gender': 0,\n",
              "  'id': 12915,\n",
              "  'job': 'CG Painter',\n",
              "  'name': 'William Cone',\n",
              "  'profile_path': None},\n",
              " {'credit_id': '5892130f9251412dc8009791',\n",
              "  'department': 'Art',\n",
              "  'gender': 0,\n",
              "  'id': 1748705,\n",
              "  'job': 'Sculptor',\n",
              "  'name': 'Shelley Daniels Lekven',\n",
              "  'profile_path': None},\n",
              " {'credit_id': '5892131c9251412dd4008f4c',\n",
              "  'department': 'Visual Effects',\n",
              "  'gender': 2,\n",
              "  'id': 7889,\n",
              "  'job': 'Character Designer',\n",
              "  'name': 'Bob Pauley',\n",
              "  'profile_path': None},\n",
              " {'credit_id': '589213249251412dd100987b',\n",
              "  'department': 'Visual Effects',\n",
              "  'gender': 2,\n",
              "  'id': 7918,\n",
              "  'job': 'Character Designer',\n",
              "  'name': 'Bud Luckey',\n",
              "  'profile_path': '/pcCh7G19FKMNijmPQg1PMH1btic.jpg'},\n",
              " {'credit_id': '5892132b9251412dc80097b1',\n",
              "  'department': 'Visual Effects',\n",
              "  'gender': 2,\n",
              "  'id': 7,\n",
              "  'job': 'Character Designer',\n",
              "  'name': 'Andrew Stanton',\n",
              "  'profile_path': '/pvQWsu0qc8JFQhMVJkTHuexUAa1.jpg'},\n",
              " {'credit_id': '58921332c3a368634800467b',\n",
              "  'department': 'Visual Effects',\n",
              "  'gender': 0,\n",
              "  'id': 12915,\n",
              "  'job': 'Character Designer',\n",
              "  'name': 'William Cone',\n",
              "  'profile_path': None},\n",
              " {'credit_id': '5892135f9251412dd4008f90',\n",
              "  'department': 'Visual Effects',\n",
              "  'gender': 0,\n",
              "  'id': 1748706,\n",
              "  'job': 'Character Designer',\n",
              "  'name': 'Steve Johnson',\n",
              "  'profile_path': None},\n",
              " {'credit_id': '58921384c3a3680973008fd4',\n",
              "  'department': 'Visual Effects',\n",
              "  'gender': 0,\n",
              "  'id': 1176752,\n",
              "  'job': 'Character Designer',\n",
              "  'name': 'Dan Haskett',\n",
              "  'profile_path': None},\n",
              " {'credit_id': '5892138e9251412dc20099fc',\n",
              "  'department': 'Visual Effects',\n",
              "  'gender': 0,\n",
              "  'id': 1088034,\n",
              "  'job': 'Character Designer',\n",
              "  'name': 'Tom Holloway',\n",
              "  'profile_path': '/a0r0T2usTBpgMI5aZbRBDW1fTl8.jpg'},\n",
              " {'credit_id': '58921395c3a368097700942f',\n",
              "  'department': 'Visual Effects',\n",
              "  'gender': 0,\n",
              "  'id': 1447465,\n",
              "  'job': 'Character Designer',\n",
              "  'name': 'Jean Gillmore',\n",
              "  'profile_path': None},\n",
              " {'credit_id': '589213e2c3a3680973009026',\n",
              "  'department': 'Directing',\n",
              "  'gender': 0,\n",
              "  'id': 1748709,\n",
              "  'job': 'Layout',\n",
              "  'name': 'Desirée Mourad',\n",
              "  'profile_path': None},\n",
              " {'credit_id': '589214099251412dc5009d57',\n",
              "  'department': 'Art',\n",
              "  'gender': 0,\n",
              "  'id': 1748710,\n",
              "  'job': 'Set Dresser',\n",
              "  'name': \"Kelly O'Connell\",\n",
              "  'profile_path': None},\n",
              " {'credit_id': '58921411c3a3686b0a004f70',\n",
              "  'department': 'Art',\n",
              "  'gender': 0,\n",
              "  'id': 1443471,\n",
              "  'job': 'Set Dresser',\n",
              "  'name': 'Sonoko Konishi',\n",
              "  'profile_path': None},\n",
              " {'credit_id': '58921434c3a368096a00956e',\n",
              "  'department': 'Art',\n",
              "  'gender': 0,\n",
              "  'id': 1748711,\n",
              "  'job': 'Set Dresser',\n",
              "  'name': 'Ann M. Rockwell',\n",
              "  'profile_path': None},\n",
              " {'credit_id': '5892144ac3a36809680090de',\n",
              "  'department': 'Editing',\n",
              "  'gender': 0,\n",
              "  'id': 1748712,\n",
              "  'job': 'Editorial Manager',\n",
              "  'name': 'Julie M. McDonald',\n",
              "  'profile_path': None},\n",
              " {'credit_id': '58921479c3a368096800910f',\n",
              "  'department': 'Editing',\n",
              "  'gender': 0,\n",
              "  'id': 1589729,\n",
              "  'job': 'Assistant Editor',\n",
              "  'name': 'Robin Lee',\n",
              "  'profile_path': None},\n",
              " {'credit_id': '5892148b9251412dd10099cc',\n",
              "  'department': 'Editing',\n",
              "  'gender': 0,\n",
              "  'id': 1748716,\n",
              "  'job': 'Assistant Editor',\n",
              "  'name': 'Tom Freeman',\n",
              "  'profile_path': None},\n",
              " {'credit_id': '589214959251412dcb009b1f',\n",
              "  'department': 'Editing',\n",
              "  'gender': 0,\n",
              "  'id': 1748717,\n",
              "  'job': 'Assistant Editor',\n",
              "  'name': 'Ada Cochavi',\n",
              "  'profile_path': None},\n",
              " {'credit_id': '5892149ec3a3686348004798',\n",
              "  'department': 'Editing',\n",
              "  'gender': 0,\n",
              "  'id': 1336438,\n",
              "  'job': 'Assistant Editor',\n",
              "  'name': 'Dana Mulligan',\n",
              "  'profile_path': None},\n",
              " {'credit_id': '589214adc3a368096a0095db',\n",
              "  'department': 'Editing',\n",
              "  'gender': 0,\n",
              "  'id': 1748718,\n",
              "  'job': 'Editorial Coordinator',\n",
              "  'name': 'Deirdre Morrison',\n",
              "  'profile_path': None},\n",
              " {'credit_id': '589214c7c3a368097700952b',\n",
              "  'department': 'Production',\n",
              "  'gender': 0,\n",
              "  'id': 1748719,\n",
              "  'job': 'Production Coordinator',\n",
              "  'name': 'Lori Lombardo',\n",
              "  'profile_path': None},\n",
              " {'credit_id': '589214cec3a368096a009603',\n",
              "  'department': 'Production',\n",
              "  'gender': 0,\n",
              "  'id': 1748720,\n",
              "  'job': 'Production Coordinator',\n",
              "  'name': 'Ellen Devine',\n",
              "  'profile_path': None},\n",
              " {'credit_id': '589214e39251412dc8009904',\n",
              "  'department': 'Crew',\n",
              "  'gender': 0,\n",
              "  'id': 1468014,\n",
              "  'job': 'Unit Publicist',\n",
              "  'name': 'Lauren Beth Strogoff',\n",
              "  'profile_path': None},\n",
              " {'credit_id': '58921544c3a3686b0a00507d',\n",
              "  'department': 'Sound',\n",
              "  'gender': 2,\n",
              "  'id': 2216,\n",
              "  'job': 'Sound Re-Recording Mixer',\n",
              "  'name': 'Gary Rydstrom',\n",
              "  'profile_path': '/jZpr1nVfO7lldWI0YtmP1FGw7Rj.jpg'},\n",
              " {'credit_id': '5892154c9251412dd1009a56',\n",
              "  'department': 'Sound',\n",
              "  'gender': 0,\n",
              "  'id': 1425978,\n",
              "  'job': 'Sound Re-Recording Mixer',\n",
              "  'name': 'Gary Summers',\n",
              "  'profile_path': None},\n",
              " {'credit_id': '58921555c3a36809680091bd',\n",
              "  'department': 'Sound',\n",
              "  'gender': 2,\n",
              "  'id': 8276,\n",
              "  'job': 'Supervising Sound Editor',\n",
              "  'name': 'Tim Holland',\n",
              "  'profile_path': None},\n",
              " {'credit_id': '589215c39251412dcb009c12',\n",
              "  'department': 'Sound',\n",
              "  'gender': 0,\n",
              "  'id': 7069,\n",
              "  'job': 'Sound Effects Editor',\n",
              "  'name': 'Pat Jackson',\n",
              "  'profile_path': None},\n",
              " {'credit_id': '58921698c3a368096a009788',\n",
              "  'department': 'Crew',\n",
              "  'gender': 2,\n",
              "  'id': 15894,\n",
              "  'job': 'Sound Design Assistant',\n",
              "  'name': 'Tom Myers',\n",
              "  'profile_path': None},\n",
              " {'credit_id': '589216a89251412dc2009ca4',\n",
              "  'department': 'Sound',\n",
              "  'gender': 0,\n",
              "  'id': 1414177,\n",
              "  'job': 'Assistant Sound Editor',\n",
              "  'name': 'J.R. Grubbs',\n",
              "  'profile_path': None},\n",
              " {'credit_id': '589216c19251412dc2009cb9',\n",
              "  'department': 'Sound',\n",
              "  'gender': 1,\n",
              "  'id': 1748724,\n",
              "  'job': 'Assistant Sound Editor',\n",
              "  'name': 'Susan Sanford',\n",
              "  'profile_path': None},\n",
              " {'credit_id': '589216ccc3a3680973009274',\n",
              "  'department': 'Sound',\n",
              "  'gender': 0,\n",
              "  'id': 1748725,\n",
              "  'job': 'Assistant Sound Editor',\n",
              "  'name': 'Susan Popovic',\n",
              "  'profile_path': None},\n",
              " {'credit_id': '589216d79251412dc8009aa0',\n",
              "  'department': 'Sound',\n",
              "  'gender': 0,\n",
              "  'id': 8067,\n",
              "  'job': 'Assistant Sound Editor',\n",
              "  'name': 'Dan Engstrom',\n",
              "  'profile_path': None},\n",
              " {'credit_id': '589216e49251412dcd009a4f',\n",
              "  'department': 'Production',\n",
              "  'gender': 1,\n",
              "  'id': 7902,\n",
              "  'job': 'Casting Consultant',\n",
              "  'name': 'Ruth Lambert',\n",
              "  'profile_path': None},\n",
              " {'credit_id': '589216f39251412dc2009cf3',\n",
              "  'department': 'Production',\n",
              "  'gender': 0,\n",
              "  'id': 84493,\n",
              "  'job': 'ADR Voice Casting',\n",
              "  'name': 'Mickie McGowan',\n",
              "  'profile_path': '/k7TjJBfINsg8vLQxJwos6XObAD6.jpg'}]"
            ]
          },
          "metadata": {},
          "execution_count": 14
        }
      ]
    },
    {
      "cell_type": "code",
      "metadata": {
        "id": "1cVhADFISLPd",
        "colab": {
          "base_uri": "https://localhost:8080/",
          "height": 35
        },
        "outputId": "14a58d92-823b-4139-fcf3-a57040b5d78e"
      },
      "source": [
        "# 從crew欄位取出job為director的導演姓名，並以空白連接\n",
        "\n",
        "def get_director_name_from_json_string(string_):\n",
        "    list_ = literal_eval(string_)\n",
        "    for dict_ in list_:\n",
        "        if dict_['job'] == 'Director':\n",
        "            return dict_['name']\n",
        "    return ''\n",
        "\n",
        "df_credits['director'] = df_credits['crew'].apply(get_director_name_from_json_string)\n",
        "\n",
        "# 刪除crew欄位\n",
        "del df_credits['crew']\n",
        "\n",
        "# 顯示第一筆資料的cast的內容\n",
        "df_credits['director'][0]"
      ],
      "execution_count": null,
      "outputs": [
        {
          "output_type": "execute_result",
          "data": {
            "application/vnd.google.colaboratory.intrinsic+json": {
              "type": "string"
            },
            "text/plain": [
              "'John Lasseter'"
            ]
          },
          "metadata": {},
          "execution_count": 15
        }
      ]
    },
    {
      "cell_type": "markdown",
      "metadata": {
        "id": "-5QjgRwA8f4-"
      },
      "source": [
        "### Processing for Keywords"
      ]
    },
    {
      "cell_type": "code",
      "metadata": {
        "id": "fPZgRCULmI5M",
        "colab": {
          "base_uri": "https://localhost:8080/",
          "height": 80
        },
        "outputId": "cb939475-24b8-40dd-e6bb-45cd6e4d29c1"
      },
      "source": [
        "# 載入資料\n",
        "df_keywords = pd.read_csv(PATH + 'imdb_keywords.csv')\n",
        "\n",
        "# 顯示第一筆資料\n",
        "df_keywords.head(1)"
      ],
      "execution_count": null,
      "outputs": [
        {
          "output_type": "execute_result",
          "data": {
            "text/html": [
              "<div>\n",
              "<style scoped>\n",
              "    .dataframe tbody tr th:only-of-type {\n",
              "        vertical-align: middle;\n",
              "    }\n",
              "\n",
              "    .dataframe tbody tr th {\n",
              "        vertical-align: top;\n",
              "    }\n",
              "\n",
              "    .dataframe thead th {\n",
              "        text-align: right;\n",
              "    }\n",
              "</style>\n",
              "<table border=\"1\" class=\"dataframe\">\n",
              "  <thead>\n",
              "    <tr style=\"text-align: right;\">\n",
              "      <th></th>\n",
              "      <th>id</th>\n",
              "      <th>keywords</th>\n",
              "    </tr>\n",
              "  </thead>\n",
              "  <tbody>\n",
              "    <tr>\n",
              "      <th>0</th>\n",
              "      <td>862</td>\n",
              "      <td>[{'id': 931, 'name': 'jealousy'}, {'id': 4290,...</td>\n",
              "    </tr>\n",
              "  </tbody>\n",
              "</table>\n",
              "</div>"
            ],
            "text/plain": [
              "    id                                           keywords\n",
              "0  862  [{'id': 931, 'name': 'jealousy'}, {'id': 4290,..."
            ]
          },
          "metadata": {},
          "execution_count": 16
        }
      ]
    },
    {
      "cell_type": "code",
      "metadata": {
        "id": "1IcbKJ48c9OD",
        "colab": {
          "base_uri": "https://localhost:8080/"
        },
        "outputId": "9d080d4a-54cc-4498-a794-01c1cd0837dc"
      },
      "source": [
        "# 顯示第一筆資料的keywords\n",
        "literal_eval(df_keywords['keywords'][0])"
      ],
      "execution_count": null,
      "outputs": [
        {
          "output_type": "execute_result",
          "data": {
            "text/plain": [
              "[{'id': 931, 'name': 'jealousy'},\n",
              " {'id': 4290, 'name': 'toy'},\n",
              " {'id': 5202, 'name': 'boy'},\n",
              " {'id': 6054, 'name': 'friendship'},\n",
              " {'id': 9713, 'name': 'friends'},\n",
              " {'id': 9823, 'name': 'rivalry'},\n",
              " {'id': 165503, 'name': 'boy next door'},\n",
              " {'id': 170722, 'name': 'new toy'},\n",
              " {'id': 187065, 'name': 'toy comes to life'}]"
            ]
          },
          "metadata": {},
          "execution_count": 17
        }
      ]
    },
    {
      "cell_type": "code",
      "metadata": {
        "id": "-2K7ZtN3Z9Ua",
        "colab": {
          "base_uri": "https://localhost:8080/",
          "height": 35
        },
        "outputId": "d4aca740-bef6-459e-83ea-76d819e463a1"
      },
      "source": [
        "# 取出keywords (以apply對df_keywords中的每一筆資料執行get_names_from_json_string這個函示)\n",
        "df_keywords['keywords'] = df_keywords['keywords'].apply(get_names_from_json_string)\n",
        "\n",
        "# 顯示第一筆資料的keywords內容\n",
        "df_keywords['keywords'][0]"
      ],
      "execution_count": null,
      "outputs": [
        {
          "output_type": "execute_result",
          "data": {
            "application/vnd.google.colaboratory.intrinsic+json": {
              "type": "string"
            },
            "text/plain": [
              "'jealousy toy boy friendship friends rivalry boy next door new toy toy comes to life'"
            ]
          },
          "metadata": {},
          "execution_count": 18
        }
      ]
    },
    {
      "cell_type": "markdown",
      "metadata": {
        "id": "CXM2Kd7Ja-Yt"
      },
      "source": [
        "### Merge DataFrames"
      ]
    },
    {
      "cell_type": "code",
      "metadata": {
        "id": "FQpVjzGjq-jy",
        "colab": {
          "base_uri": "https://localhost:8080/",
          "height": 114
        },
        "outputId": "780fe3cc-43e7-400d-adc8-2dfaf4a23935"
      },
      "source": [
        "# 將id欄位轉為數值型態\n",
        "df_metadata['id'] = df_metadata['id'].astype('str')\n",
        "df_credits['id'] = df_credits['id'].astype('str')\n",
        "df_keywords['id'] = df_keywords['id'].astype('str')\n",
        "\n",
        "# 合併三個資料表\n",
        "df_data = df_metadata.merge(df_credits, on='id').drop_duplicates()\n",
        "df_data = df_data.merge(df_keywords, on='id').drop_duplicates()\n",
        "\n",
        "# 顯示第一筆資料\n",
        "df_data.head(1)"
      ],
      "execution_count": null,
      "outputs": [
        {
          "output_type": "execute_result",
          "data": {
            "text/html": [
              "<div>\n",
              "<style scoped>\n",
              "    .dataframe tbody tr th:only-of-type {\n",
              "        vertical-align: middle;\n",
              "    }\n",
              "\n",
              "    .dataframe tbody tr th {\n",
              "        vertical-align: top;\n",
              "    }\n",
              "\n",
              "    .dataframe thead th {\n",
              "        text-align: right;\n",
              "    }\n",
              "</style>\n",
              "<table border=\"1\" class=\"dataframe\">\n",
              "  <thead>\n",
              "    <tr style=\"text-align: right;\">\n",
              "      <th></th>\n",
              "      <th>genres</th>\n",
              "      <th>id</th>\n",
              "      <th>overview</th>\n",
              "      <th>status</th>\n",
              "      <th>original_title</th>\n",
              "      <th>cast</th>\n",
              "      <th>director</th>\n",
              "      <th>keywords</th>\n",
              "    </tr>\n",
              "  </thead>\n",
              "  <tbody>\n",
              "    <tr>\n",
              "      <th>0</th>\n",
              "      <td>Animation Comedy Family</td>\n",
              "      <td>862</td>\n",
              "      <td>lead woody andy toy live happily room andy bir...</td>\n",
              "      <td>Released</td>\n",
              "      <td>Toy Story</td>\n",
              "      <td>Tom Hanks Tim Allen Don Rickles Jim Varney Wal...</td>\n",
              "      <td>John Lasseter</td>\n",
              "      <td>jealousy toy boy friendship friends rivalry bo...</td>\n",
              "    </tr>\n",
              "  </tbody>\n",
              "</table>\n",
              "</div>"
            ],
            "text/plain": [
              "                    genres  ...                                           keywords\n",
              "0  Animation Comedy Family  ...  jealousy toy boy friendship friends rivalry bo...\n",
              "\n",
              "[1 rows x 8 columns]"
            ]
          },
          "metadata": {},
          "execution_count": 19
        }
      ]
    },
    {
      "cell_type": "code",
      "metadata": {
        "colab": {
          "base_uri": "https://localhost:8080/"
        },
        "id": "jjNffJhShKO2",
        "outputId": "89c7e88f-6bd5-4cee-f84a-06e28283e32b"
      },
      "source": [
        "df_data.shape"
      ],
      "execution_count": null,
      "outputs": [
        {
          "output_type": "execute_result",
          "data": {
            "text/plain": [
              "(44985, 8)"
            ]
          },
          "metadata": {},
          "execution_count": 20
        }
      ]
    },
    {
      "cell_type": "code",
      "metadata": {
        "id": "Mow5-UzZjoic",
        "colab": {
          "base_uri": "https://localhost:8080/"
        },
        "outputId": "90a42411-8f24-4515-a3fe-fa346e397b9a"
      },
      "source": [
        "# 移除有nan的資料\n",
        "df_data = df_data.dropna()\n",
        "df_data.shape"
      ],
      "execution_count": null,
      "outputs": [
        {
          "output_type": "execute_result",
          "data": {
            "text/plain": [
              "(44985, 8)"
            ]
          },
          "metadata": {},
          "execution_count": 21
        }
      ]
    },
    {
      "cell_type": "code",
      "metadata": {
        "id": "9HGyqBT5rwTd",
        "colab": {
          "base_uri": "https://localhost:8080/",
          "height": 203
        },
        "outputId": "23c41e87-f287-4aac-9ec9-e3fb70897ec9"
      },
      "source": [
        "# 把6個欄位合併成一個字串，中間以空白隔開\n",
        "def combine_columns(row):\n",
        "    txt = row['genres'] + ' ' + row['overview'] + ' ' + row['original_title'] + ' ' + row['cast'] + ' ' + row['director'] + ' ' + row['keywords']\n",
        "    return txt.lower()\n",
        "\n",
        "df_data['combined_txt'] = df_data.apply(combine_columns, axis=1)\n",
        "\n",
        "# 顯示前五筆combined_txt\n",
        "df_data[['combined_txt']].head()"
      ],
      "execution_count": null,
      "outputs": [
        {
          "output_type": "execute_result",
          "data": {
            "text/html": [
              "<div>\n",
              "<style scoped>\n",
              "    .dataframe tbody tr th:only-of-type {\n",
              "        vertical-align: middle;\n",
              "    }\n",
              "\n",
              "    .dataframe tbody tr th {\n",
              "        vertical-align: top;\n",
              "    }\n",
              "\n",
              "    .dataframe thead th {\n",
              "        text-align: right;\n",
              "    }\n",
              "</style>\n",
              "<table border=\"1\" class=\"dataframe\">\n",
              "  <thead>\n",
              "    <tr style=\"text-align: right;\">\n",
              "      <th></th>\n",
              "      <th>combined_txt</th>\n",
              "    </tr>\n",
              "  </thead>\n",
              "  <tbody>\n",
              "    <tr>\n",
              "      <th>0</th>\n",
              "      <td>animation comedy family lead woody andy toy li...</td>\n",
              "    </tr>\n",
              "    <tr>\n",
              "      <th>1</th>\n",
              "      <td>adventure fantasy family sibling judy peter di...</td>\n",
              "    </tr>\n",
              "    <tr>\n",
              "      <th>2</th>\n",
              "      <td>romance comedy family wed reignite ancient feu...</td>\n",
              "    </tr>\n",
              "    <tr>\n",
              "      <th>3</th>\n",
              "      <td>comedy drama romance cheat mistreat step woman...</td>\n",
              "    </tr>\n",
              "    <tr>\n",
              "      <th>4</th>\n",
              "      <td>comedy george bank recover daughter wed receiv...</td>\n",
              "    </tr>\n",
              "  </tbody>\n",
              "</table>\n",
              "</div>"
            ],
            "text/plain": [
              "                                        combined_txt\n",
              "0  animation comedy family lead woody andy toy li...\n",
              "1  adventure fantasy family sibling judy peter di...\n",
              "2  romance comedy family wed reignite ancient feu...\n",
              "3  comedy drama romance cheat mistreat step woman...\n",
              "4  comedy george bank recover daughter wed receiv..."
            ]
          },
          "metadata": {},
          "execution_count": 22
        }
      ]
    },
    {
      "cell_type": "code",
      "metadata": {
        "id": "kfE9pl6L3stc"
      },
      "source": [
        "#import pickle\n",
        "\n",
        "#with open('/content/drive/MyDrive/Colab Notebooks/推薦系統/movie_texts.pkl','wb') as f:\n",
        "#    pickle.dump(df_data, f)\n",
        "\n",
        "#with open('/content/drive/MyDrive/Colab Notebooks/推薦系統/movie_texts.pkl','rb') as f:\n",
        "#    df_data = pickle.load(f)\n",
        "#    print(df_data.shape)\n",
        "\n",
        "#df_data"
      ],
      "execution_count": null,
      "outputs": []
    },
    {
      "cell_type": "markdown",
      "metadata": {
        "id": "lGoflxjEi2mN"
      },
      "source": [
        "## Vector Represtation of Documents"
      ]
    },
    {
      "cell_type": "code",
      "metadata": {
        "id": "vkiwMvsLnnDO",
        "colab": {
          "base_uri": "https://localhost:8080/"
        },
        "outputId": "80e7c090-485a-4d9c-9ec7-bde2be7f8cf8"
      },
      "source": [
        "# 產生TF-IDF分數\n",
        "\n",
        "from sklearn.feature_extraction.text import TfidfVectorizer\n",
        "import numpy as np\n",
        "\n",
        "#傳入fit_transform的資料格式可以是dataframe的series，也可以是python的list\n",
        "tfidf = TfidfVectorizer(stop_words='english')\n",
        "tfidf_matrix = tfidf.fit_transform(df_data['combined_txt'])\n",
        "\n",
        "# 顯示資料筆數與詞典的詞總數(詞典大小)\n",
        "tfidf_matrix.shape\n",
        "\n",
        "# 顯示詞典中詞的總數(詞典尺寸)\n",
        "print(len(tfidf.get_feature_names()))\n",
        "\n",
        "# 顯示詞典中第1001~1010個詞\n",
        "print(tfidf.get_feature_names()[:10])"
      ],
      "execution_count": null,
      "outputs": [
        {
          "output_type": "stream",
          "name": "stdout",
          "text": [
            "173219\n",
            "['00', '000', '002', '008', '009', '009ノ1', '01', '02', '03', '04']\n"
          ]
        }
      ]
    },
    {
      "cell_type": "markdown",
      "metadata": {
        "id": "v7oIQc5ui6nK"
      },
      "source": [
        "### Similarities of Documents"
      ]
    },
    {
      "cell_type": "code",
      "metadata": {
        "id": "RtH9E4WjJQ8j"
      },
      "source": [
        "# 產生編號與電影名稱對應表\n",
        "# *** 原本的索引作為新陣列的值，電影標題作為新陣列的索引 ***\n",
        "\n",
        "import pandas as pd\n",
        "\n",
        "df_data = df_data.reset_index()\n",
        "indices = pd.Series(df_data.index, index=df_data['original_title'])"
      ],
      "execution_count": null,
      "outputs": []
    },
    {
      "cell_type": "code",
      "metadata": {
        "colab": {
          "base_uri": "https://localhost:8080/"
        },
        "id": "Dkv0Hf9ldOTU",
        "outputId": "3a54824a-1d9b-4e01-8516-76d8a4a933ff"
      },
      "source": [
        "# https://kanoki.org/2019/11/12/how-to-use-regex-in-pandas/\n",
        "'''\n",
        "# 搜尋電影名稱\n",
        "import numpy as np\n",
        "foo = df_metadata\n",
        "foo[foo.original_title.str.contains('Matrix', regex= True, na=False)]\n",
        "'''\n",
        "\n",
        "#movie_title = 'Toy Story'\n",
        "movie_title = 'The Matrix'\n",
        "\n",
        "# 取出該電影的編號(索引)\n",
        "movie_idx = indices[movie_title]\n",
        "print(movie_idx)\n",
        "\n",
        "# 取出該電影的tfidf向量\n",
        "movie_vector = tfidf_matrix[movie_idx]\n",
        "#movie_vector = movie_vector.reshape(-1,1)"
      ],
      "execution_count": null,
      "outputs": [
        {
          "output_type": "stream",
          "name": "stdout",
          "text": [
            "2445\n"
          ]
        }
      ]
    },
    {
      "cell_type": "code",
      "metadata": {
        "id": "KtvVuzDvkFZK",
        "colab": {
          "base_uri": "https://localhost:8080/"
        },
        "outputId": "451bea55-50dd-4eab-8253-ae67b087df3a"
      },
      "source": [
        "# 計算相似度(得到一個矩陣)\n",
        "\n",
        "from sklearn.metrics.pairwise import cosine_similarity\n",
        "\n",
        "similarity = cosine_similarity(movie_vector,tfidf_matrix)\n",
        "print(similarity.shape)\n",
        "\n",
        "similarity = similarity.tolist()[0]"
      ],
      "execution_count": null,
      "outputs": [
        {
          "output_type": "stream",
          "name": "stdout",
          "text": [
            "(1, 44985)\n"
          ]
        }
      ]
    },
    {
      "cell_type": "markdown",
      "metadata": {
        "id": "dbW3xYQMimLM"
      },
      "source": [
        "### Ranking of Documents"
      ]
    },
    {
      "cell_type": "code",
      "metadata": {
        "id": "PmeBP--EhHnR",
        "colab": {
          "base_uri": "https://localhost:8080/"
        },
        "outputId": "43d582c6-f2de-4145-8dcb-607d53e4c431"
      },
      "source": [
        "# 取出該電影與其他電影的相似度分數，並與電影編號組成tuple\n",
        "# (enumerate可以吃list或是numpy array)\n",
        "sim_scores = list(enumerate(similarity))\n",
        "\n",
        "# 將相似度分數進行排序\n",
        "sorted_sim_scores = sorted(sim_scores, key = lambda x: x[1], reverse = True)\n",
        "\n",
        "# 取出相似度最高之前十部電影\n",
        "top_sim_scores = sorted_sim_scores[1:11]\n",
        "\n",
        "# 取出該十部電影之編號\n",
        "movie_indices = [i[0] for i in top_sim_scores]\n",
        "print(movie_indices)\n",
        "\n",
        "# 取出電影名稱\n",
        "recommend_movies = [indices[indices == i].index[0] for i in movie_indices]\n",
        "recommend_movies"
      ],
      "execution_count": null,
      "outputs": [
        {
          "output_type": "stream",
          "name": "stdout",
          "text": [
            "[6747, 6189, 43432, 43720, 9324, 43714, 6481, 43716, 20574, 4221]\n"
          ]
        },
        {
          "output_type": "execute_result",
          "data": {
            "text/plain": [
              "['The Matrix Revolutions',\n",
              " 'The Matrix Reloaded',\n",
              " 'The Matrix Revisited',\n",
              " \"Kid's Story\",\n",
              " 'The Animatrix',\n",
              " 'A Detective Story',\n",
              " 'Commando',\n",
              " 'World Record',\n",
              " 'Underground: The Julian Assange Story',\n",
              " 'A.I. Artificial Intelligence']"
            ]
          },
          "metadata": {},
          "execution_count": 28
        }
      ]
    },
    {
      "cell_type": "code",
      "metadata": {
        "id": "PsWglSXlnN8-"
      },
      "source": [
        ""
      ],
      "execution_count": null,
      "outputs": []
    }
  ]
}